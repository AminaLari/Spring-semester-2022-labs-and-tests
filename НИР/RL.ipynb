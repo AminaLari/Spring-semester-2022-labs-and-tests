{
 "cells": [
  {
   "cell_type": "markdown",
   "metadata": {},
   "source": [
    "Будем пользоваться стандартными средами, реализованными в библиотеке OpenAI Gym (https://gym.openai.com)."
   ]
  },
  {
   "cell_type": "code",
   "execution_count": 1,
   "metadata": {},
   "outputs": [
    {
     "data": {
      "image/png": "[encoded data removed]",
      "text/plain": [
       "<Figure size 432x288 with 1 Axes>"
      ]
     },
     "metadata": {
      "needs_background": "light"
     },
     "output_type": "display_data"
    }
   ],
   "source": [
    "import numpy as np\n",
    "import matplotlib.pyplot as plt\n",
    "%matplotlib inline\n",
    "import sys\n",
    "sys.path.append('c:\\\\users\\\\amina\\\\anaconda3\\\\lib\\\\site-packages')\n",
    "import gym\n",
    "# создаем окружение\n",
    "env = gym.make(\"MountainCar-v0\")\n",
    "env_screen = env.render(mode = 'rgb_array')\n",
    "plt.imshow(env_screen)\n",
    "env.close()"
   ]
  },
  {
   "cell_type": "markdown",
   "metadata": {},
   "source": [
    "### Интерфейс среды в OpenAI gym\n",
    "\n",
    "Основные методы класса Env:\n",
    "\n",
    "item reset() - инициализация окружения, возвращает первое наблюдение;\n",
    "item render() - визуализация текущего состояния среды;\n",
    "item step($a$) - выполнить в среде действие a и получить: new observation - новое наблюдение после выполнения действия $a$; reward - вознаграждение за выполненное действие $a$; $is\\_done$ - True, если процесс завершился, False иначе; $info$ - дополнительная информация;\n"
   ]
  },
  {
   "cell_type": "code",
   "execution_count": 2,
   "metadata": {},
   "outputs": [
    {
     "name": "stdout",
     "output_type": "stream",
     "text": [
      "изначальное состояние среды: [-0.59669447  0.        ]\n",
      "новое состояние: [-0.59515065  0.00154383] вознаграждение -1.0\n"
     ]
    }
   ],
   "source": [
    "obs0 = env.reset()\n",
    "print(\"изначальное состояние среды:\", obs0)\n",
    "# выполняем действие 2 \n",
    "new_obs, reward, is_done, _ = env.step(2)\n",
    "print(\"новое состояние:\", new_obs, \n",
    "      \"вознаграждение\", reward)"
   ]
  },
  {
   "cell_type": "code",
   "execution_count": 3,
   "metadata": {},
   "outputs": [
    {
     "name": "stdout",
     "output_type": "stream",
     "text": [
      "Успех!\n"
     ]
    }
   ],
   "source": [
    "def act(s):\n",
    "    actions = {'left': 0, 'stop': 1, 'right': 2}\n",
    "    # в зависимости от полученного состояния среды \n",
    "    # выбираем действия так, чтобы тележка достигла флага\n",
    "    action = actions['left'] if s[1] < 0 else actions[\"right\"]\n",
    "    return action\n",
    "\n",
    "# создаем окружение, с ограничением на число шагов в 249\n",
    "env = gym.wrappers.TimeLimit(\n",
    "    gym.make(\"MountainCar-v0\").unwrapped,\n",
    "    max_episode_steps=250)\n",
    "# проводим инициализацию и запоминаем начальное состояние\n",
    "s = env.reset()\n",
    "done = False\n",
    "while not done:\n",
    "    # выполняем действие, получаем s, r, done\n",
    "    s, r, done, _ = env.step(act(s))\n",
    "    # визуализируем окружение\n",
    "    env.render()\n",
    "\n",
    "env.close()\n",
    "if s[0] > 0.47:\n",
    "    print(\"Успех!\")\n",
    "else:\n",
    "    raise NotImplementedError(\"\"\"!\"\"\")"
   ]
  },
  {
   "cell_type": "markdown",
   "metadata": {},
   "source": [
    "## Q-обучение"
   ]
  },
  {
   "cell_type": "markdown",
   "metadata": {},
   "source": [
    "Одним из наиболее популярных алгоритм обучения на основе временных различий является Q-обучение. Агент, который принимает решения на основе $Q$-функции, не требует модель для обучения и выбора действий, т.е. такой агент также свободен от модели (model-free), как и TD-агент. Уравнение Беллмана для значения Q-функции в равновесии записывается как:\n",
    "\n",
    "$$Q(s,a)=r(s)+\\gamma\\sum_s'T(s,a,s')\\max_{a'}Q(a',s')$$"
   ]
  },
  {
   "cell_type": "markdown",
   "metadata": {},
   "source": [
    "Уравнение для итерационного обновления значений Q-функции выглядит следующим образом:\n",
    "$$Q(s,a)\\leftarrow Q(s,a)+\\alpha(r(s)+\\gamma\\max_{a'}Q(a',s') - Q(s,a)).$$"
   ]
  },
  {
   "cell_type": "markdown",
   "metadata": {},
   "source": [
    "Оформим этот алгоритм в виде класса QLearningAgent:"
   ]
  },
  {
   "cell_type": "code",
   "execution_count": 4,
   "metadata": {
    "collapsed": true
   },
   "outputs": [],
   "source": [
    "import random, math\n",
    "\n",
    "import numpy as np\n",
    "from collections import defaultdict\n",
    "\n",
    "\n",
    "class QLearningAgent():\n",
    "    \"\"\"\n",
    "    Q-Learning агент\n",
    "\n",
    "    Замечание: избегайте прямое использование \n",
    "    self._q_values, для этого определены \n",
    "    функции: get_q_value, set_q_value\n",
    "    \"\"\"\n",
    "\n",
    "    def __init__(self, alpha, epsilon, discount, \n",
    "                 get_legal_actions):\n",
    "        self.get_legal_actions = get_legal_actions\n",
    "        self._q_values = \\\n",
    "            defaultdict(lambda: defaultdict(lambda: 0))  \n",
    "        self.alpha = alpha\n",
    "        self.epsilon = epsilon\n",
    "        self.discount = discount\n",
    "\n",
    "    def get_q_value(self, state, action):\n",
    "        return self._q_values[state][action]\n",
    "\n",
    "    def set_q_value(self, state, action, value):\n",
    "        self._q_values[state][action] = value"
   ]
  },
  {
   "cell_type": "markdown",
   "metadata": {},
   "source": [
    "Добавим нашему агенту возможность вычислять оценки $V$:"
   ]
  },
  {
   "cell_type": "code",
   "execution_count": 5,
   "metadata": {
    "collapsed": true
   },
   "outputs": [],
   "source": [
    "def get_value(self, state):\n",
    "    \"\"\"\n",
    "      Возвращает значение функции полезности, \n",
    "      рассчитанной по Q[state, action], \n",
    "    \"\"\"\n",
    "    possible_actions = self.get_legal_actions(state)\n",
    "    value = max([self.get_q_value(state, action) for action in possible_actions])\n",
    "    return value\n",
    "\n",
    "QLearningAgent.get_value = get_value"
   ]
  },
  {
   "cell_type": "markdown",
   "metadata": {},
   "source": [
    "Стратегия нашего агента будет заключаться в выборе лучшего действия, в соответствии с оценками $Q$:"
   ]
  },
  {
   "cell_type": "code",
   "execution_count": 6,
   "metadata": {
    "collapsed": true
   },
   "outputs": [],
   "source": [
    "def get_policy(self, state):\n",
    "    \"\"\"\n",
    "      Выбирает лучшее действие, согласно стратегии.\n",
    "    \"\"\"\n",
    "    possible_actions = self.get_legal_actions(state)\n",
    "    \n",
    "    # выбираем лучшее действие, согласно стратегии\n",
    "    best_action = None\n",
    "    for action in possible_actions:\n",
    "        if best_action is None:\n",
    "            best_action = action\n",
    "        elif self.get_q_value(state, action) > self.get_q_value(state, best_action):\n",
    "            best_action = action\n",
    "       \n",
    "    return best_action\n",
    "\n",
    "QLearningAgent.get_policy = get_policy"
   ]
  },
  {
   "cell_type": "markdown",
   "metadata": {},
   "source": [
    "Для конкретной ситуации мы будем выбирать действие, используя $\\epsilon$-жадный подход:"
   ]
  },
  {
   "cell_type": "code",
   "execution_count": 7,
   "metadata": {
    "collapsed": true
   },
   "outputs": [],
   "source": [
    "def get_action(self, state):\n",
    "    \"\"\"\n",
    "      Выбирает действие, предпринимаемое в данном \n",
    "      состоянии, включая исследование (eps greedy)\n",
    "      С вероятностью self.epsilon берем случайное \n",
    "      действие, иначе действие согласно стратегии \n",
    "      (self.get_policy)\n",
    "    \"\"\"\n",
    "    possible_actions = self.get_legal_actions(state)\n",
    "\n",
    "    # выбираем действие, используя eps-greedy подход\n",
    "    if np.random.random() < self.epsilon:\n",
    "        action = np.random.choice(possible_actions, 1)[0]\n",
    "    else:\n",
    "        action = self.get_policy(state)\n",
    "        \n",
    "    return action\n",
    "\n",
    "QLearningAgent.get_action = get_action"
   ]
  },
  {
   "cell_type": "code",
   "execution_count": 8,
   "metadata": {
    "collapsed": true
   },
   "outputs": [],
   "source": [
    "def update(self, state, action, next_state, reward):\n",
    "    \"\"\"\n",
    "      функция Q-обновления \n",
    "    \"\"\"\n",
    "    # выполняем Q-обновление, \n",
    "    # используем методы getQValue и setQValue\n",
    "    t = self.alpha*(reward + self.discount*self.get_value(next_state) - self.get_q_value(state, action))\n",
    "    reference_qvalue = self.get_q_value(state, action) + t\n",
    "    self.set_q_value(state, action, reference_qvalue)\n",
    "    \n",
    "QLearningAgent.update = update"
   ]
  },
  {
   "cell_type": "markdown",
   "metadata": {},
   "source": [
    "Тестируем нашего агента на задаче Taxi"
   ]
  },
  {
   "cell_type": "code",
   "execution_count": 9,
   "metadata": {
    "collapsed": true
   },
   "outputs": [],
   "source": [
    "import gym\n",
    "env = gym.make(\"Taxi-v3\")\n",
    "\n",
    "n_actions = env.action_space.n"
   ]
  },
  {
   "cell_type": "code",
   "execution_count": 10,
   "metadata": {
    "collapsed": true
   },
   "outputs": [],
   "source": [
    "def play_and_train(env, agent, t_max=10**4):\n",
    "    \"\"\"функция запускает полную игру,\n",
    "    используя стратегию агента (agent.get_action(s))\n",
    "    выполняет обновление агента (agent.update(...))\n",
    "    и возвращает общее вознаграждение\n",
    "    \"\"\"\n",
    "    total_reward = 0.0\n",
    "    s = env.reset()\n",
    "    \n",
    "    for t in range(t_max):\n",
    "        # выбираем действие\n",
    "        a = agent.get_action(s)\n",
    "        next_s, r, done, _ = env.step(a)\n",
    "        \n",
    "        # выполняем обновление стратегии\n",
    "        agent.update(s, a, next_s, r)\n",
    "        \n",
    "        s = next_s\n",
    "        total_reward +=r\n",
    "        if done:\n",
    "            break\n",
    "        \n",
    "    return total_reward\n",
    "    "
   ]
  },
  {
   "cell_type": "code",
   "execution_count": 11,
   "metadata": {},
   "outputs": [
    {
     "name": "stdout",
     "output_type": "stream",
     "text": [
      "eps = 0.1 mean reward = 5.6\n",
      "alpha= 0.5\n"
     ]
    },
    {
     "data": {
      "image/png": "[encoded data removed]",
      "text/plain": [
       "<Figure size 432x288 with 1 Axes>"
      ]
     },
     "metadata": {
      "needs_background": "light"
     },
     "output_type": "display_data"
    }
   ],
   "source": [
    "import matplotlib.pyplot as plt\n",
    "%matplotlib inline\n",
    "from IPython.display import clear_output\n",
    "\n",
    "agent = QLearningAgent(alpha=0.5, epsilon=0.1,\n",
    "                       discount=0.9,\n",
    "                       get_legal_actions=lambda s: range(\n",
    "                           n_actions))\n",
    "\n",
    "assert 'get_policy' in dir(agent)\n",
    "rewards = []\n",
    "for i in range(5000):\n",
    "    rewards.append(play_and_train(env, agent))\n",
    "\n",
    "    if i % 100 == 0:\n",
    "        clear_output(True)\n",
    "        print('eps =', agent.epsilon,\n",
    "              'mean reward =', np.mean(rewards[-10:]))\n",
    "        print(\"alpha=\", agent.alpha)\n",
    "        plt.plot(rewards)\n",
    "        plt.show()"
   ]
  },
  {
   "cell_type": "code",
   "execution_count": 12,
   "metadata": {},
   "outputs": [
    {
     "data": {
      "text/plain": [
       "10.0"
      ]
     },
     "execution_count": 12,
     "metadata": {},
     "output_type": "execute_result"
    },
    {
     "ename": "",
     "evalue": "",
     "output_type": "error",
     "traceback": [
      "\u001b[1;31mThe Kernel crashed while executing code in the the current cell or a previous cell. Please review the code in the cell(s) to identify a possible cause of the failure. Click <a href='https://aka.ms/vscodeJupyterKernelCrash'>here</a> for more info. View Jupyter <a href='command:jupyter.viewOutput'>log</a> for further details."
     ]
    }
   ],
   "source": [
    "total_reward = 0.0\n",
    "s = env.reset()\n",
    "    \n",
    "for t in range(1000):\n",
    "    # выбираем действие\n",
    "    a = agent.get_action(s)\n",
    "    next_s, r, done, _ = env.step(a)\n",
    "        \n",
    "    s = next_s\n",
    "    total_reward +=r\n",
    "    if done:\n",
    "         break\n",
    "    \n",
    "    env.render()\n",
    "total_reward"
   ]
  }
 ],
 "metadata": {
  "interpreter": {
   "hash": "7e80bb43f9c38ca82caeb656aa938b64b02c513cdf7ab19f6227761bdfdd32f7"
  },
  "kernelspec": {
   "display_name": "Python 3.9.7 ('base')",
   "language": "python",
   "name": "python3"
  },
  "language_info": {
   "codemirror_mode": {
    "name": "ipython",
    "version": 3
   },
   "file_extension": ".py",
   "mimetype": "text/x-python",
   "name": "python",
   "nbconvert_exporter": "python",
   "pygments_lexer": "ipython3",
   "version": "3.9.7"
  }
 },
 "nbformat": 4,
 "nbformat_minor": 2
}
